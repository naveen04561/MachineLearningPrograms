{
 "cells": [
  {
   "cell_type": "code",
   "execution_count": 29,
   "metadata": {},
   "outputs": [],
   "source": [
    "import numpy as np\n",
    "import pandas as pd\n",
    "from sklearn.model_selection import train_test_split \n",
    "import matplotlib.pyplot as plt\n",
    "import seaborn as sns\n",
    "%matplotlib inline"
   ]
  },
  {
   "cell_type": "code",
   "execution_count": 30,
   "metadata": {},
   "outputs": [],
   "source": [
    "data = pd.read_csv('weatherHistory.csv')"
   ]
  },
  {
   "cell_type": "code",
   "execution_count": 31,
   "metadata": {},
   "outputs": [
    {
     "data": {
      "text/html": [
       "<div>\n",
       "<style scoped>\n",
       "    .dataframe tbody tr th:only-of-type {\n",
       "        vertical-align: middle;\n",
       "    }\n",
       "\n",
       "    .dataframe tbody tr th {\n",
       "        vertical-align: top;\n",
       "    }\n",
       "\n",
       "    .dataframe thead th {\n",
       "        text-align: right;\n",
       "    }\n",
       "</style>\n",
       "<table border=\"1\" class=\"dataframe\">\n",
       "  <thead>\n",
       "    <tr style=\"text-align: right;\">\n",
       "      <th></th>\n",
       "      <th>Formatted Date</th>\n",
       "      <th>Summary</th>\n",
       "      <th>Precip Type</th>\n",
       "      <th>Temperature (C)</th>\n",
       "      <th>Apparent Temperature (C)</th>\n",
       "      <th>Humidity</th>\n",
       "      <th>Wind Speed (km/h)</th>\n",
       "      <th>Wind Bearing (degrees)</th>\n",
       "      <th>Visibility (km)</th>\n",
       "      <th>Loud Cover</th>\n",
       "      <th>Pressure (millibars)</th>\n",
       "      <th>Daily Summary</th>\n",
       "    </tr>\n",
       "  </thead>\n",
       "  <tbody>\n",
       "    <tr>\n",
       "      <th>0</th>\n",
       "      <td>2006-04-01 00:00:00.000 +0200</td>\n",
       "      <td>Partly Cloudy</td>\n",
       "      <td>rain</td>\n",
       "      <td>9.472222</td>\n",
       "      <td>7.388889</td>\n",
       "      <td>0.89</td>\n",
       "      <td>14.1197</td>\n",
       "      <td>251.0</td>\n",
       "      <td>15.8263</td>\n",
       "      <td>0.0</td>\n",
       "      <td>1015.13</td>\n",
       "      <td>Partly cloudy throughout the day.</td>\n",
       "    </tr>\n",
       "    <tr>\n",
       "      <th>1</th>\n",
       "      <td>2006-04-01 01:00:00.000 +0200</td>\n",
       "      <td>Partly Cloudy</td>\n",
       "      <td>rain</td>\n",
       "      <td>9.355556</td>\n",
       "      <td>7.227778</td>\n",
       "      <td>0.86</td>\n",
       "      <td>14.2646</td>\n",
       "      <td>259.0</td>\n",
       "      <td>15.8263</td>\n",
       "      <td>0.0</td>\n",
       "      <td>1015.63</td>\n",
       "      <td>Partly cloudy throughout the day.</td>\n",
       "    </tr>\n",
       "    <tr>\n",
       "      <th>2</th>\n",
       "      <td>2006-04-01 02:00:00.000 +0200</td>\n",
       "      <td>Mostly Cloudy</td>\n",
       "      <td>rain</td>\n",
       "      <td>9.377778</td>\n",
       "      <td>9.377778</td>\n",
       "      <td>0.89</td>\n",
       "      <td>3.9284</td>\n",
       "      <td>204.0</td>\n",
       "      <td>14.9569</td>\n",
       "      <td>0.0</td>\n",
       "      <td>1015.94</td>\n",
       "      <td>Partly cloudy throughout the day.</td>\n",
       "    </tr>\n",
       "    <tr>\n",
       "      <th>3</th>\n",
       "      <td>2006-04-01 03:00:00.000 +0200</td>\n",
       "      <td>Partly Cloudy</td>\n",
       "      <td>rain</td>\n",
       "      <td>8.288889</td>\n",
       "      <td>5.944444</td>\n",
       "      <td>0.83</td>\n",
       "      <td>14.1036</td>\n",
       "      <td>269.0</td>\n",
       "      <td>15.8263</td>\n",
       "      <td>0.0</td>\n",
       "      <td>1016.41</td>\n",
       "      <td>Partly cloudy throughout the day.</td>\n",
       "    </tr>\n",
       "    <tr>\n",
       "      <th>4</th>\n",
       "      <td>2006-04-01 04:00:00.000 +0200</td>\n",
       "      <td>Mostly Cloudy</td>\n",
       "      <td>rain</td>\n",
       "      <td>8.755556</td>\n",
       "      <td>6.977778</td>\n",
       "      <td>0.83</td>\n",
       "      <td>11.0446</td>\n",
       "      <td>259.0</td>\n",
       "      <td>15.8263</td>\n",
       "      <td>0.0</td>\n",
       "      <td>1016.51</td>\n",
       "      <td>Partly cloudy throughout the day.</td>\n",
       "    </tr>\n",
       "  </tbody>\n",
       "</table>\n",
       "</div>"
      ],
      "text/plain": [
       "                  Formatted Date        Summary Precip Type  Temperature (C)  \\\n",
       "0  2006-04-01 00:00:00.000 +0200  Partly Cloudy        rain         9.472222   \n",
       "1  2006-04-01 01:00:00.000 +0200  Partly Cloudy        rain         9.355556   \n",
       "2  2006-04-01 02:00:00.000 +0200  Mostly Cloudy        rain         9.377778   \n",
       "3  2006-04-01 03:00:00.000 +0200  Partly Cloudy        rain         8.288889   \n",
       "4  2006-04-01 04:00:00.000 +0200  Mostly Cloudy        rain         8.755556   \n",
       "\n",
       "   Apparent Temperature (C)  Humidity  Wind Speed (km/h)  \\\n",
       "0                  7.388889      0.89            14.1197   \n",
       "1                  7.227778      0.86            14.2646   \n",
       "2                  9.377778      0.89             3.9284   \n",
       "3                  5.944444      0.83            14.1036   \n",
       "4                  6.977778      0.83            11.0446   \n",
       "\n",
       "   Wind Bearing (degrees)  Visibility (km)  Loud Cover  Pressure (millibars)  \\\n",
       "0                   251.0          15.8263         0.0               1015.13   \n",
       "1                   259.0          15.8263         0.0               1015.63   \n",
       "2                   204.0          14.9569         0.0               1015.94   \n",
       "3                   269.0          15.8263         0.0               1016.41   \n",
       "4                   259.0          15.8263         0.0               1016.51   \n",
       "\n",
       "                       Daily Summary  \n",
       "0  Partly cloudy throughout the day.  \n",
       "1  Partly cloudy throughout the day.  \n",
       "2  Partly cloudy throughout the day.  \n",
       "3  Partly cloudy throughout the day.  \n",
       "4  Partly cloudy throughout the day.  "
      ]
     },
     "execution_count": 31,
     "metadata": {},
     "output_type": "execute_result"
    }
   ],
   "source": [
    "data.head()"
   ]
  },
  {
   "cell_type": "code",
   "execution_count": 32,
   "metadata": {},
   "outputs": [],
   "source": [
    "data.drop(['Formatted Date','Summary','Daily Summary','Loud Cover'],axis=1,inplace = True)"
   ]
  },
  {
   "cell_type": "code",
   "execution_count": 33,
   "metadata": {},
   "outputs": [],
   "source": [
    "data['Precip Type'].replace({'rain':1,'snow':0}, inplace=True)"
   ]
  },
  {
   "cell_type": "code",
   "execution_count": 34,
   "metadata": {},
   "outputs": [],
   "source": [
    "data.head()\n",
    "data.dropna(inplace=True)"
   ]
  },
  {
   "cell_type": "code",
   "execution_count": 35,
   "metadata": {},
   "outputs": [
    {
     "data": {
      "text/plain": [
       "['Precip Type',\n",
       " 'Temperature (C)',\n",
       " 'Apparent Temperature (C)',\n",
       " 'Humidity',\n",
       " 'Wind Speed (km/h)',\n",
       " 'Wind Bearing (degrees)',\n",
       " 'Visibility (km)',\n",
       " 'Pressure (millibars)']"
      ]
     },
     "execution_count": 35,
     "metadata": {},
     "output_type": "execute_result"
    }
   ],
   "source": [
    "cols = list(data.columns)\n",
    "cols"
   ]
  },
  {
   "cell_type": "code",
   "execution_count": 36,
   "metadata": {},
   "outputs": [],
   "source": [
    "# data[cols].replace([np.inf, -np.inf], np.nan,inplace=True) \n",
    "# data[cols].isnull().values.any()\n",
    "# data[cols].dropna(inplace=True)\n",
    "# data[cols].isnull().values.any()\n",
    "# cols.remove('Apparent Temperature (C)')\n",
    "# data[cols]\n",
    "# cols.remove('Temperature (C)')\n",
    "# Y = data['Temperature (C)']\n",
    "# data[cols].isnull().values.any()\n",
    "\n",
    "# # X_train[np.isfinite(X_train) == True]\n",
    "# def feature_normalize(X):\n",
    "#     #Note here we need mean of indivdual column here, hence axis = 0\n",
    "#     mu = np.mean(X, axis = 0)  \n",
    "#     # Notice the parameter ddof (Delta Degrees of Freedom)  value is 1\n",
    "#     sigma = np.std(X, axis= 0, ddof = 1)  # Standard deviation (can also use range)\n",
    "#     X_norm = (X - mu)/sigma\n",
    "#     return X_norm, mu, sigma\n",
    "\n",
    "# X, mu, sigma = feature_normalize(X)\n",
    "# # X_train\n",
    "\n",
    "# mu_testing = np.mean(X, axis = 0) # mean\n",
    "# # mu_testing\n",
    "\n",
    "# sigma_testing = np.std(X, axis = 0, ddof = 1) # mean\n",
    "# # sigma_testing\n",
    "# X"
   ]
  },
  {
   "cell_type": "code",
   "execution_count": 37,
   "metadata": {},
   "outputs": [
    {
     "data": {
      "text/html": [
       "<div>\n",
       "<style scoped>\n",
       "    .dataframe tbody tr th:only-of-type {\n",
       "        vertical-align: middle;\n",
       "    }\n",
       "\n",
       "    .dataframe tbody tr th {\n",
       "        vertical-align: top;\n",
       "    }\n",
       "\n",
       "    .dataframe thead th {\n",
       "        text-align: right;\n",
       "    }\n",
       "</style>\n",
       "<table border=\"1\" class=\"dataframe\">\n",
       "  <thead>\n",
       "    <tr style=\"text-align: right;\">\n",
       "      <th></th>\n",
       "      <th>Precip Type</th>\n",
       "      <th>Temperature (C)</th>\n",
       "      <th>Apparent Temperature (C)</th>\n",
       "      <th>Humidity</th>\n",
       "      <th>Wind Speed (km/h)</th>\n",
       "      <th>Wind Bearing (degrees)</th>\n",
       "      <th>Visibility (km)</th>\n",
       "      <th>Pressure (millibars)</th>\n",
       "    </tr>\n",
       "  </thead>\n",
       "  <tbody>\n",
       "    <tr>\n",
       "      <th>0</th>\n",
       "      <td>0.354529</td>\n",
       "      <td>-0.257950</td>\n",
       "      <td>-0.324100</td>\n",
       "      <td>0.792744</td>\n",
       "      <td>0.478962</td>\n",
       "      <td>0.591154</td>\n",
       "      <td>1.309101</td>\n",
       "      <td>0.102151</td>\n",
       "    </tr>\n",
       "    <tr>\n",
       "      <th>1</th>\n",
       "      <td>0.354529</td>\n",
       "      <td>-0.270140</td>\n",
       "      <td>-0.339132</td>\n",
       "      <td>0.639467</td>\n",
       "      <td>0.499899</td>\n",
       "      <td>0.665652</td>\n",
       "      <td>1.309101</td>\n",
       "      <td>0.106414</td>\n",
       "    </tr>\n",
       "    <tr>\n",
       "      <th>2</th>\n",
       "      <td>0.354529</td>\n",
       "      <td>-0.267818</td>\n",
       "      <td>-0.138531</td>\n",
       "      <td>0.792744</td>\n",
       "      <td>-0.993615</td>\n",
       "      <td>0.153477</td>\n",
       "      <td>1.100800</td>\n",
       "      <td>0.109058</td>\n",
       "    </tr>\n",
       "    <tr>\n",
       "      <th>3</th>\n",
       "      <td>0.354529</td>\n",
       "      <td>-0.381592</td>\n",
       "      <td>-0.458870</td>\n",
       "      <td>0.486190</td>\n",
       "      <td>0.476635</td>\n",
       "      <td>0.758774</td>\n",
       "      <td>1.309101</td>\n",
       "      <td>0.113065</td>\n",
       "    </tr>\n",
       "    <tr>\n",
       "      <th>4</th>\n",
       "      <td>0.354529</td>\n",
       "      <td>-0.332831</td>\n",
       "      <td>-0.362458</td>\n",
       "      <td>0.486190</td>\n",
       "      <td>0.034630</td>\n",
       "      <td>0.665652</td>\n",
       "      <td>1.309101</td>\n",
       "      <td>0.113918</td>\n",
       "    </tr>\n",
       "    <tr>\n",
       "      <th>...</th>\n",
       "      <td>...</td>\n",
       "      <td>...</td>\n",
       "      <td>...</td>\n",
       "      <td>...</td>\n",
       "      <td>...</td>\n",
       "      <td>...</td>\n",
       "      <td>...</td>\n",
       "      <td>...</td>\n",
       "    </tr>\n",
       "    <tr>\n",
       "      <th>96448</th>\n",
       "      <td>0.354529</td>\n",
       "      <td>1.470711</td>\n",
       "      <td>1.413921</td>\n",
       "      <td>-1.557503</td>\n",
       "      <td>0.027651</td>\n",
       "      <td>-1.457543</td>\n",
       "      <td>1.374677</td>\n",
       "      <td>0.095585</td>\n",
       "    </tr>\n",
       "    <tr>\n",
       "      <th>96449</th>\n",
       "      <td>0.354529</td>\n",
       "      <td>1.320948</td>\n",
       "      <td>1.280187</td>\n",
       "      <td>-1.302042</td>\n",
       "      <td>-0.102624</td>\n",
       "      <td>-1.559978</td>\n",
       "      <td>1.243525</td>\n",
       "      <td>0.102407</td>\n",
       "    </tr>\n",
       "    <tr>\n",
       "      <th>96450</th>\n",
       "      <td>0.354529</td>\n",
       "      <td>1.055089</td>\n",
       "      <td>1.042784</td>\n",
       "      <td>-0.893303</td>\n",
       "      <td>-0.263142</td>\n",
       "      <td>-1.466855</td>\n",
       "      <td>1.374677</td>\n",
       "      <td>0.106670</td>\n",
       "    </tr>\n",
       "    <tr>\n",
       "      <th>96451</th>\n",
       "      <td>0.354529</td>\n",
       "      <td>1.001105</td>\n",
       "      <td>0.994577</td>\n",
       "      <td>-0.688934</td>\n",
       "      <td>-0.039813</td>\n",
       "      <td>-1.559978</td>\n",
       "      <td>1.374677</td>\n",
       "      <td>0.109143</td>\n",
       "    </tr>\n",
       "    <tr>\n",
       "      <th>96452</th>\n",
       "      <td>0.354529</td>\n",
       "      <td>0.887912</td>\n",
       "      <td>0.893499</td>\n",
       "      <td>-0.637841</td>\n",
       "      <td>-0.712127</td>\n",
       "      <td>-1.383045</td>\n",
       "      <td>1.235810</td>\n",
       "      <td>0.110934</td>\n",
       "    </tr>\n",
       "  </tbody>\n",
       "</table>\n",
       "<p>95936 rows × 8 columns</p>\n",
       "</div>"
      ],
      "text/plain": [
       "       Precip Type  Temperature (C)  Apparent Temperature (C)  Humidity  \\\n",
       "0         0.354529        -0.257950                 -0.324100  0.792744   \n",
       "1         0.354529        -0.270140                 -0.339132  0.639467   \n",
       "2         0.354529        -0.267818                 -0.138531  0.792744   \n",
       "3         0.354529        -0.381592                 -0.458870  0.486190   \n",
       "4         0.354529        -0.332831                 -0.362458  0.486190   \n",
       "...            ...              ...                       ...       ...   \n",
       "96448     0.354529         1.470711                  1.413921 -1.557503   \n",
       "96449     0.354529         1.320948                  1.280187 -1.302042   \n",
       "96450     0.354529         1.055089                  1.042784 -0.893303   \n",
       "96451     0.354529         1.001105                  0.994577 -0.688934   \n",
       "96452     0.354529         0.887912                  0.893499 -0.637841   \n",
       "\n",
       "       Wind Speed (km/h)  Wind Bearing (degrees)  Visibility (km)  \\\n",
       "0               0.478962                0.591154         1.309101   \n",
       "1               0.499899                0.665652         1.309101   \n",
       "2              -0.993615                0.153477         1.100800   \n",
       "3               0.476635                0.758774         1.309101   \n",
       "4               0.034630                0.665652         1.309101   \n",
       "...                  ...                     ...              ...   \n",
       "96448           0.027651               -1.457543         1.374677   \n",
       "96449          -0.102624               -1.559978         1.243525   \n",
       "96450          -0.263142               -1.466855         1.374677   \n",
       "96451          -0.039813               -1.559978         1.374677   \n",
       "96452          -0.712127               -1.383045         1.235810   \n",
       "\n",
       "       Pressure (millibars)  \n",
       "0                  0.102151  \n",
       "1                  0.106414  \n",
       "2                  0.109058  \n",
       "3                  0.113065  \n",
       "4                  0.113918  \n",
       "...                     ...  \n",
       "96448              0.095585  \n",
       "96449              0.102407  \n",
       "96450              0.106670  \n",
       "96451              0.109143  \n",
       "96452              0.110934  \n",
       "\n",
       "[95936 rows x 8 columns]"
      ]
     },
     "execution_count": 37,
     "metadata": {},
     "output_type": "execute_result"
    }
   ],
   "source": [
    "def normalize(df):\n",
    "    # copy the dataframe\n",
    "    df_std = df.copy()\n",
    "    # apply the z-score method\n",
    "    for column in df_std.columns:\n",
    "        df_std[column] = (df_std[column] - df_std[column].mean()) / df_std[column].std()\n",
    "        \n",
    "    return df_std\n",
    "\n",
    "data_n = normalize(data[cols])\n",
    "data_n"
   ]
  },
  {
   "cell_type": "code",
   "execution_count": 38,
   "metadata": {},
   "outputs": [
    {
     "data": {
      "text/plain": [
       "(       Precip Type  Apparent Temperature (C)  Humidity  Wind Speed (km/h)  \\\n",
       " 0         0.354529                 -0.324100  0.792744           0.478962   \n",
       " 1         0.354529                 -0.339132  0.639467           0.499899   \n",
       " 2         0.354529                 -0.138531  0.792744          -0.993615   \n",
       " 3         0.354529                 -0.458870  0.486190           0.476635   \n",
       " 4         0.354529                 -0.362458  0.486190           0.034630   \n",
       " ...            ...                       ...       ...                ...   \n",
       " 96448     0.354529                  1.413921 -1.557503           0.027651   \n",
       " 96449     0.354529                  1.280187 -1.302042          -0.102624   \n",
       " 96450     0.354529                  1.042784 -0.893303          -0.263142   \n",
       " 96451     0.354529                  0.994577 -0.688934          -0.039813   \n",
       " 96452     0.354529                  0.893499 -0.637841          -0.712127   \n",
       " \n",
       "        Wind Bearing (degrees)  Visibility (km)  Pressure (millibars)  \n",
       " 0                    0.591154         1.309101              0.102151  \n",
       " 1                    0.665652         1.309101              0.106414  \n",
       " 2                    0.153477         1.100800              0.109058  \n",
       " 3                    0.758774         1.309101              0.113065  \n",
       " 4                    0.665652         1.309101              0.113918  \n",
       " ...                       ...              ...                   ...  \n",
       " 96448               -1.457543         1.374677              0.095585  \n",
       " 96449               -1.559978         1.243525              0.102407  \n",
       " 96450               -1.466855         1.374677              0.106670  \n",
       " 96451               -1.559978         1.374677              0.109143  \n",
       " 96452               -1.383045         1.235810              0.110934  \n",
       " \n",
       " [95936 rows x 7 columns],\n",
       " array([-0.25794989, -0.27013991, -0.26781801, ...,  1.0550894 ,\n",
       "         1.00110503,  0.88791199]))"
      ]
     },
     "execution_count": 38,
     "metadata": {},
     "output_type": "execute_result"
    }
   ],
   "source": [
    "X = data_n.drop(columns=['Temperature (C)'])\n",
    "Y = data_n['Temperature (C)'].values\n",
    "X,Y"
   ]
  },
  {
   "cell_type": "code",
   "execution_count": 39,
   "metadata": {},
   "outputs": [
    {
     "data": {
      "text/plain": [
       "array([[ 1.        ,  0.35452924, -0.32409998, ...,  0.59115351,\n",
       "         1.30910067,  0.10215102],\n",
       "       [ 1.        ,  0.35452924, -0.33913207, ...,  0.66565156,\n",
       "         1.30910067,  0.10641443],\n",
       "       [ 1.        ,  0.35452924, -0.13853141, ...,  0.15347742,\n",
       "         1.10080026,  0.10905774],\n",
       "       ...,\n",
       "       [ 1.        ,  0.35452924,  1.04278354, ..., -1.46685531,\n",
       "         1.37467673,  0.10667023],\n",
       "       [ 1.        ,  0.35452924,  0.99457718, ..., -1.55997788,\n",
       "         1.37467673,  0.10914301],\n",
       "       [ 1.        ,  0.35452924,  0.89349933, ..., -1.383045  ,\n",
       "         1.23580978,  0.11093364]])"
      ]
     },
     "execution_count": 39,
     "metadata": {},
     "output_type": "execute_result"
    }
   ],
   "source": [
    "X = np.hstack((np.ones((X.shape[0],1)), X))\n",
    "X"
   ]
  },
  {
   "cell_type": "code",
   "execution_count": 107,
   "metadata": {
    "scrolled": false
   },
   "outputs": [],
   "source": [
    "train_X, test_X, train_Y, test_Y = train_test_split(X, Y, test_size = 0.6,random_state=214) "
   ]
  },
  {
   "cell_type": "code",
   "execution_count": 41,
   "metadata": {},
   "outputs": [],
   "source": [
    "# train_X = np.array(X_train)\n",
    "# train_Y = np.array(y_train)\n",
    "# test_X = np.array(X_test)\n",
    "# test_Y = np.array(y_test)\n",
    "# print(train_X.shape)\n",
    "# print(train_Y.shape)\n",
    "# print(test_X.shape)\n",
    "# print(test_Y.shape)"
   ]
  },
  {
   "cell_type": "code",
   "execution_count": 86,
   "metadata": {},
   "outputs": [
    {
     "name": "stdout",
     "output_type": "stream",
     "text": [
      "(3000, 8)\n",
      "(3000,)\n",
      "(7000, 8)\n",
      "(7000,)\n"
     ]
    }
   ],
   "source": [
    "train_X = np.array(X[:3000])\n",
    "train_Y = np.array(Y[:3000])\n",
    "test_X = np.array(X[3000:10000])\n",
    "test_Y = np.array(Y[3000:10000])\n",
    "print(train_X.shape)\n",
    "print(train_Y.shape)\n",
    "print(test_X.shape)\n",
    "print(test_Y.shape)"
   ]
  },
  {
   "cell_type": "code",
   "execution_count": 108,
   "metadata": {},
   "outputs": [
    {
     "name": "stdout",
     "output_type": "stream",
     "text": [
      "8 38374\n"
     ]
    }
   ],
   "source": [
    "train_Y = train_Y.reshape(train_X.shape[0], 1)\n",
    "test_Y = test_Y.reshape(test_Y.shape[0], 1)\n",
    "m = train_X.shape[0]\n",
    "n = train_X.shape[1]\n",
    "print(n,m)"
   ]
  },
  {
   "cell_type": "code",
   "execution_count": 109,
   "metadata": {},
   "outputs": [
    {
     "name": "stdout",
     "output_type": "stream",
     "text": [
      "[2.80986717e-05]\n",
      "[[ 0.         -0.00233981  0.97825016 -0.02810751  0.05832989 -0.00404818\n",
      "   0.00419381 -0.00218251]]\n"
     ]
    }
   ],
   "source": [
    "from sklearn.linear_model import LinearRegression\n",
    "h = LinearRegression()\n",
    "h.fit(train_X,train_Y)\n",
    "print(h.intercept_) # to retrieve theta_0\n",
    "print(h.coef_) # to retrieve theta_1"
   ]
  },
  {
   "cell_type": "code",
   "execution_count": 110,
   "metadata": {},
   "outputs": [],
   "source": [
    "# Lets use hstack() function from numpy to add column of ones to X feature \n",
    "# This will be our final X matrix (feature matrix)\n",
    "# X_final = np.hstack((np.ones((m,1)), X_train))\n",
    "# y_final = np.array(y_train)\n",
    "# X_train[np.isfinite(X_train) == True]\n",
    "# print(X_final,y_final)\n",
    "    # OR\n",
    "    # We can merge 'square' and 'sum' into one by taking the transpose of matrix 'errors' and taking dot product with itself\n",
    "    # If your confuse about this try to do this with few values for better understanding  \n",
    "#     J = 1/(2 * m) * errors.T.dot(errors)"
   ]
  },
  {
   "cell_type": "code",
   "execution_count": 111,
   "metadata": {},
   "outputs": [],
   "source": [
    "def compute_cost(X, y, theta):\n",
    "    predictions = X.dot(theta)\n",
    "    errors = np.subtract(predictions, y)\n",
    "    sqrErrors = np.square(errors)\n",
    "    J = 1 / (2 * m) * np.sum(sqrErrors)\n",
    "    return J"
   ]
  },
  {
   "cell_type": "code",
   "execution_count": 112,
   "metadata": {},
   "outputs": [],
   "source": [
    "def gradient_descent(X, y, theta, alpha, iterations):\n",
    "    cost_history = np.zeros(iterations)\n",
    "\n",
    "    for i in range(iterations):\n",
    "        predictions = X.dot(theta)\n",
    "        errors = np.subtract(predictions, y)\n",
    "        sum_delta = (alpha / m) * X.transpose().dot(errors)\n",
    "        theta = theta - sum_delta;\n",
    "\n",
    "        cost_history[i] = compute_cost(X, y, theta) \n",
    "    return theta, cost_history"
   ]
  },
  {
   "cell_type": "code",
   "execution_count": 119,
   "metadata": {},
   "outputs": [
    {
     "name": "stdout",
     "output_type": "stream",
     "text": [
      "Final value of theta = [[ 2.80986717e-05]\n",
      " [-2.33981033e-03]\n",
      " [ 9.78250158e-01]\n",
      " [-2.81075097e-02]\n",
      " [ 5.83298898e-02]\n",
      " [-4.04817799e-03]\n",
      " [ 4.19381283e-03]\n",
      " [-2.18250875e-03]]\n",
      "First 5 values from cost_history = [0.26560712 0.15904094 0.1075278  0.08089642 0.0658072 ]\n",
      "Last 5 values from cost_history = [0.00488757 0.00488757 0.00488757 0.00488757 0.00488757]\n"
     ]
    }
   ],
   "source": [
    "iterations = 1000;\n",
    "alpha = 0.15;\n",
    "theta, cost_history = gradient_descent(train_X, train_Y, theta, alpha, iterations)\n",
    "print('Final value of theta =', theta)\n",
    "print('First 5 values from cost_history =', cost_history[:5])\n",
    "print('Last 5 values from cost_history =', cost_history[-5 :])"
   ]
  },
  {
   "cell_type": "code",
   "execution_count": 120,
   "metadata": {},
   "outputs": [
    {
     "data": {
      "text/plain": [
       "<matplotlib.legend.Legend at 0x14189fcbd88>"
      ]
     },
     "execution_count": 120,
     "metadata": {},
     "output_type": "execute_result"
    },
    {
     "data": {
      "image/png": "[encoded data removed]",
      "text/plain": [
       "<Figure size 720x432 with 1 Axes>"
      ]
     },
     "metadata": {
      "needs_background": "light"
     },
     "output_type": "display_data"
    }
   ],
   "source": [
    "plt.plot(range(1, iterations +1), cost_history, color ='blue', label = 'alpha = 0.15')\n",
    "plt.rcParams[\"figure.figsize\"] = (10,6)\n",
    "plt.grid()\n",
    "plt.xlabel(\"Number of iterations\")\n",
    "plt.ylabel(\"cost (J)\")\n",
    "plt.title(\"Effect of Learning Rate On Convergence of Gradient Descent\")\n",
    "plt.legend()"
   ]
  },
  {
   "cell_type": "code",
   "execution_count": 121,
   "metadata": {},
   "outputs": [
    {
     "name": "stdout",
     "output_type": "stream",
     "text": [
      "Accuracy = 60.0928346070042\n"
     ]
    }
   ],
   "source": [
    "def testMultivariateLR(test_X, test_Y, theta):\n",
    "    predicted_Y = test_X.dot(theta)\n",
    "\n",
    "    result = np.sum(np.abs((predicted_Y - test_Y)/test_Y))\n",
    "    result /= test_Y.shape[0]\n",
    "    result *= 100\n",
    "    accuracy = 100 - result\n",
    "\n",
    "    return accuracy\n",
    "\n",
    "accuracy = testMultivariateLR(test_X, test_Y, theta)\n",
    "print(\"Accuracy =\",accuracy)"
   ]
  },
  {
   "cell_type": "code",
   "execution_count": 116,
   "metadata": {},
   "outputs": [],
   "source": [
    "# line_X = test_X[:, 2:3]\n",
    "# line_Y = test_Y[:,:]\n",
    "# b0 = theta[0:1, :]\n",
    "# b2 = theta[2:3, :]\n",
    "# plt.scatter(x=line_X, y=line_Y, color='#1f77b4')\n",
    "# plt.plot(line_X,b0+b2*line_X, 'r')\n",
    "# plt.xlabel('Apparent Temperature (C)')\n",
    "# plt.ylabel('Temprature (C)')"
   ]
  },
  {
   "cell_type": "code",
   "execution_count": 117,
   "metadata": {},
   "outputs": [
    {
     "data": {
      "text/plain": [
       "<matplotlib.legend.Legend at 0x14189580308>"
      ]
     },
     "execution_count": 117,
     "metadata": {},
     "output_type": "execute_result"
    },
    {
     "data": {
      "image/png": "[encoded data removed]",
      "text/plain": [
       "<Figure size 720x432 with 1 Axes>"
      ]
     },
     "metadata": {
      "needs_background": "light"
     },
     "output_type": "display_data"
    }
   ],
   "source": [
    "iterations = 1000\n",
    "theta = np.zeros(theta.shape)\n",
    "\n",
    "alpha = 0.005;\n",
    "theta_1, cost_history_1 = gradient_descent(train_X, train_Y, theta, alpha, iterations)\n",
    "\n",
    "alpha = 0.01;\n",
    "theta_2, cost_history_2 = gradient_descent(train_X, train_Y, theta, alpha, iterations)\n",
    "\n",
    "alpha = 0.02;\n",
    "theta_3, cost_history_3 = gradient_descent(train_X, train_Y, theta, alpha, iterations)\n",
    "\n",
    "alpha = 0.03;\n",
    "theta_4, cost_history_4 = gradient_descent(train_X, train_Y, theta, alpha, iterations)\n",
    "\n",
    "alpha = 0.15;\n",
    "theta_5, cost_history_5 = gradient_descent(train_X, train_Y, theta, alpha, iterations)\n",
    "\n",
    "plt.plot(range(1, iterations +1), cost_history_1, color ='purple', label = 'alpha = 0.005')\n",
    "plt.plot(range(1, iterations +1), cost_history_2, color ='red', label = 'alpha = 0.01')\n",
    "plt.plot(range(1, iterations +1), cost_history_3, color ='green', label = 'alpha = 0.02')\n",
    "plt.plot(range(1, iterations +1), cost_history_4, color ='yellow', label = 'alpha = 0.03')\n",
    "plt.plot(range(1, iterations +1), cost_history_5, color ='blue', label = 'alpha = 0.15')\n",
    "# plt.rcParams[\"figure.figsize\"] = (20,6)\n",
    "plt.grid()\n",
    "plt.xlabel(\"Number of iterations\")\n",
    "plt.ylabel(\"cost (J)\")\n",
    "plt.title(\"Effect of Learning Rate On Convergence of Gradient Descent\")\n",
    "plt.legend()\n"
   ]
  },
  {
   "cell_type": "code",
   "execution_count": 75,
   "metadata": {},
   "outputs": [],
   "source": [
    "# # X_test, mu, sigma = feature_normalize(X_test)\n",
    "# plt.scatter(x=range(iterations), y=cost_history_1, color ='purple',label = 'alpha = 0.005')\n",
    "# plt.scatter(x=range(iterations), y=cost_history_2, color ='red',label = 'alpha = 0.005')\n",
    "# plt.scatter(x=range(iterations), y=cost_history_3, color ='purple',label = 'alpha = 0.005')\n",
    "# plt.rcParams[\"figure.figsize\"] = (11,6)\n",
    "# plt.grid()\n",
    "# plt.xlabel(\"Number of iterations\")\n",
    "# plt.ylabel(\"cost (J)\")\n",
    "# plt.title(\"Effect of Learning Rate On Convergence of Gradient Descent\")\n",
    "# plt.legend()\n"
   ]
  },
  {
   "cell_type": "code",
   "execution_count": 117,
   "metadata": {},
   "outputs": [],
   "source": [
    "# normalize_test_data = ((X_test - mu) / sigma)\n",
    "# normalize_test_data = np.hstack((np.ones((len(y_test),1)), normalize_test_data))\n",
    "\n",
    "# print(normalize_test_data.shape)\n"
   ]
  },
  {
   "cell_type": "code",
   "execution_count": null,
   "metadata": {},
   "outputs": [],
   "source": []
  }
 ],
 "metadata": {
  "kernelspec": {
   "display_name": "Python 3",
   "language": "python",
   "name": "python3"
  },
  "language_info": {
   "codemirror_mode": {
    "name": "ipython",
    "version": 3
   },
   "file_extension": ".py",
   "mimetype": "text/x-python",
   "name": "python",
   "nbconvert_exporter": "python",
   "pygments_lexer": "ipython3",
   "version": "3.7.6"
  }
 },
 "nbformat": 4,
 "nbformat_minor": 4
}
