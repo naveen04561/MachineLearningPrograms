{
 "cells": [
  {
   "cell_type": "code",
   "execution_count": 157,
   "metadata": {
    "executionInfo": {
     "elapsed": 1237,
     "status": "ok",
     "timestamp": 1611568058978,
     "user": {
      "displayName": "Anshul Shende",
      "photoUrl": "",
      "userId": "16636738862215717479"
     },
     "user_tz": -330
    },
    "id": "d4uRnya4z-nm"
   },
   "outputs": [],
   "source": [
    "import pandas as pd\n",
    "df = pd.read_csv('titanic.csv')"
   ]
  },
  {
   "cell_type": "code",
   "execution_count": 158,
   "metadata": {
    "executionInfo": {
     "elapsed": 833,
     "status": "ok",
     "timestamp": 1611568083887,
     "user": {
      "displayName": "Anshul Shende",
      "photoUrl": "",
      "userId": "16636738862215717479"
     },
     "user_tz": -330
    },
    "id": "9hiX1mkD8QxO"
   },
   "outputs": [],
   "source": [
    "df.rename(columns= {\n",
    "    'Siblings/Spouses Aboard':'ssa',\n",
    "    'Parents/Children Aboard': 'pca'\n",
    "}, inplace=True)\n",
    "\n",
    "def func(count):\n",
    "    if count>0:\n",
    "        return \"Yes\"\n",
    "    else:\n",
    "        return \"No\"\n",
    "    \n",
    "def age(count):\n",
    "    if count < 20:\n",
    "        return \"Child\"\n",
    "    else:\n",
    "        return \"Adult\"\n",
    "\n",
    "def func1(count):\n",
    "    if count>1:\n",
    "        return 2\n",
    "    else:\n",
    "        return 1\n",
    "    \n",
    "df['Age']=df['Age'].apply(age)\n",
    "df['pca']=df['pca'].apply(func)\n",
    "df['ssa']=df['ssa'].apply(func)\n",
    "df['Pclass']=df['Pclass'].apply(func1)"
   ]
  },
  {
   "cell_type": "code",
   "execution_count": 159,
   "metadata": {
    "colab": {
     "base_uri": "https://localhost:8080/",
     "height": 419
    },
    "executionInfo": {
     "elapsed": 950,
     "status": "ok",
     "timestamp": 1611568102922,
     "user": {
      "displayName": "Anshul Shende",
      "photoUrl": "",
      "userId": "16636738862215717479"
     },
     "user_tz": -330
    },
    "id": "eB4GwTKv8W9O",
    "outputId": "da351ea1-08d8-483d-ed60-4257ebc20ae4"
   },
   "outputs": [
    {
     "data": {
      "text/html": [
       "<div>\n",
       "<style scoped>\n",
       "    .dataframe tbody tr th:only-of-type {\n",
       "        vertical-align: middle;\n",
       "    }\n",
       "\n",
       "    .dataframe tbody tr th {\n",
       "        vertical-align: top;\n",
       "    }\n",
       "\n",
       "    .dataframe thead th {\n",
       "        text-align: right;\n",
       "    }\n",
       "</style>\n",
       "<table border=\"1\" class=\"dataframe\">\n",
       "  <thead>\n",
       "    <tr style=\"text-align: right;\">\n",
       "      <th></th>\n",
       "      <th>Survived</th>\n",
       "      <th>Pclass</th>\n",
       "      <th>Sex</th>\n",
       "      <th>Age</th>\n",
       "      <th>ssa</th>\n",
       "      <th>pca</th>\n",
       "    </tr>\n",
       "  </thead>\n",
       "  <tbody>\n",
       "    <tr>\n",
       "      <th>0</th>\n",
       "      <td>0</td>\n",
       "      <td>2</td>\n",
       "      <td>male</td>\n",
       "      <td>Adult</td>\n",
       "      <td>Yes</td>\n",
       "      <td>No</td>\n",
       "    </tr>\n",
       "    <tr>\n",
       "      <th>1</th>\n",
       "      <td>1</td>\n",
       "      <td>1</td>\n",
       "      <td>female</td>\n",
       "      <td>Adult</td>\n",
       "      <td>Yes</td>\n",
       "      <td>No</td>\n",
       "    </tr>\n",
       "    <tr>\n",
       "      <th>2</th>\n",
       "      <td>1</td>\n",
       "      <td>2</td>\n",
       "      <td>female</td>\n",
       "      <td>Adult</td>\n",
       "      <td>No</td>\n",
       "      <td>No</td>\n",
       "    </tr>\n",
       "    <tr>\n",
       "      <th>3</th>\n",
       "      <td>1</td>\n",
       "      <td>1</td>\n",
       "      <td>female</td>\n",
       "      <td>Adult</td>\n",
       "      <td>Yes</td>\n",
       "      <td>No</td>\n",
       "    </tr>\n",
       "    <tr>\n",
       "      <th>4</th>\n",
       "      <td>0</td>\n",
       "      <td>2</td>\n",
       "      <td>male</td>\n",
       "      <td>Adult</td>\n",
       "      <td>No</td>\n",
       "      <td>No</td>\n",
       "    </tr>\n",
       "    <tr>\n",
       "      <th>...</th>\n",
       "      <td>...</td>\n",
       "      <td>...</td>\n",
       "      <td>...</td>\n",
       "      <td>...</td>\n",
       "      <td>...</td>\n",
       "      <td>...</td>\n",
       "    </tr>\n",
       "    <tr>\n",
       "      <th>882</th>\n",
       "      <td>0</td>\n",
       "      <td>2</td>\n",
       "      <td>male</td>\n",
       "      <td>Adult</td>\n",
       "      <td>No</td>\n",
       "      <td>No</td>\n",
       "    </tr>\n",
       "    <tr>\n",
       "      <th>883</th>\n",
       "      <td>1</td>\n",
       "      <td>1</td>\n",
       "      <td>female</td>\n",
       "      <td>Child</td>\n",
       "      <td>No</td>\n",
       "      <td>No</td>\n",
       "    </tr>\n",
       "    <tr>\n",
       "      <th>884</th>\n",
       "      <td>0</td>\n",
       "      <td>2</td>\n",
       "      <td>female</td>\n",
       "      <td>Child</td>\n",
       "      <td>Yes</td>\n",
       "      <td>Yes</td>\n",
       "    </tr>\n",
       "    <tr>\n",
       "      <th>885</th>\n",
       "      <td>1</td>\n",
       "      <td>1</td>\n",
       "      <td>male</td>\n",
       "      <td>Adult</td>\n",
       "      <td>No</td>\n",
       "      <td>No</td>\n",
       "    </tr>\n",
       "    <tr>\n",
       "      <th>886</th>\n",
       "      <td>0</td>\n",
       "      <td>2</td>\n",
       "      <td>male</td>\n",
       "      <td>Adult</td>\n",
       "      <td>No</td>\n",
       "      <td>No</td>\n",
       "    </tr>\n",
       "  </tbody>\n",
       "</table>\n",
       "<p>887 rows × 6 columns</p>\n",
       "</div>"
      ],
      "text/plain": [
       "     Survived  Pclass     Sex    Age  ssa  pca\n",
       "0           0       2    male  Adult  Yes   No\n",
       "1           1       1  female  Adult  Yes   No\n",
       "2           1       2  female  Adult   No   No\n",
       "3           1       1  female  Adult  Yes   No\n",
       "4           0       2    male  Adult   No   No\n",
       "..        ...     ...     ...    ...  ...  ...\n",
       "882         0       2    male  Adult   No   No\n",
       "883         1       1  female  Child   No   No\n",
       "884         0       2  female  Child  Yes  Yes\n",
       "885         1       1    male  Adult   No   No\n",
       "886         0       2    male  Adult   No   No\n",
       "\n",
       "[887 rows x 6 columns]"
      ]
     },
     "execution_count": 159,
     "metadata": {},
     "output_type": "execute_result"
    }
   ],
   "source": [
    "df.drop(columns=['Name','Fare'], inplace=True)\n",
    "df"
   ]
  },
  {
   "cell_type": "code",
   "execution_count": 160,
   "metadata": {
    "colab": {
     "base_uri": "https://localhost:8080/"
    },
    "executionInfo": {
     "elapsed": 1190,
     "status": "ok",
     "timestamp": 1611568122465,
     "user": {
      "displayName": "Anshul Shende",
      "photoUrl": "",
      "userId": "16636738862215717479"
     },
     "user_tz": -330
    },
    "id": "o53AyF5A8bmJ",
    "outputId": "d50bc029-0231-43a9-94b3-901ca07103e5"
   },
   "outputs": [],
   "source": [
    "subset = df[['Pclass', 'Sex', 'Age', 'ssa', 'pca','Survived']]\n",
    "X = [tuple(x) for x in subset.values]\n",
    "X_train = X[5:10]\n",
    "X_test = X[10:]"
   ]
  },
  {
   "cell_type": "code",
   "execution_count": 162,
   "metadata": {
    "executionInfo": {
     "elapsed": 869,
     "status": "ok",
     "timestamp": 1611568138698,
     "user": {
      "displayName": "Anshul Shende",
      "photoUrl": "",
      "userId": "16636738862215717479"
     },
     "user_tz": -330
    },
    "id": "d-akQ8zl8gU5"
   },
   "outputs": [],
   "source": [
    "def g_0(n):\n",
    "    return (\"?\",)*n\n",
    "\n",
    "def s_0(n):\n",
    "    return ('0',)*n"
   ]
  },
  {
   "cell_type": "code",
   "execution_count": 163,
   "metadata": {
    "executionInfo": {
     "elapsed": 982,
     "status": "ok",
     "timestamp": 1611568153449,
     "user": {
      "displayName": "Anshul Shende",
      "photoUrl": "",
      "userId": "16636738862215717479"
     },
     "user_tz": -330
    },
    "id": "f7H4DPTP8kVN"
   },
   "outputs": [],
   "source": [
    "def more_general(h1, h2):\n",
    "    more_general_parts = []\n",
    "    for x, y in zip(h1, h2):\n",
    "        mg = x == '?' or (x != '0' and (x == y or y == '0'))\n",
    "        more_general_parts.append(mg)\n",
    "    return all(more_general_parts)\n",
    "\n",
    "def consistent(hypothesis,example):\n",
    "    return more_general(hypothesis, example)\n",
    "\n",
    "def get_domains(examples):\n",
    "    d = [set() for i in examples[0]] \n",
    "    for x in examples:\n",
    "        for i, xi in enumerate(x):\n",
    "            d[i].add(xi)\n",
    "    return [list(sorted(x)) for x in d]"
   ]
  },
  {
   "cell_type": "code",
   "execution_count": 164,
   "metadata": {
    "executionInfo": {
     "elapsed": 1163,
     "status": "ok",
     "timestamp": 1611568177719,
     "user": {
      "displayName": "Anshul Shende",
      "photoUrl": "",
      "userId": "16636738862215717479"
     },
     "user_tz": -330
    },
    "id": "Lq-QNkic8n6p"
   },
   "outputs": [],
   "source": [
    "def min_generalizations(h, x):\n",
    "    h_new = list(h)\n",
    "    for i in range(len(h)):\n",
    "        if not consistent(h[i:i+1],x[i:i+1]):\n",
    "            if h[i] != '0':\n",
    "                h_new[i] = '?'\n",
    "            else:\n",
    "                h_new[i] = x[i]\n",
    "    return [tuple(h_new)]\n",
    "\n",
    "def generalize_S(x, G, S):\n",
    "    S_prev = list(S)\n",
    "    for s in S_prev:\n",
    "        if s not in S:\n",
    "            continue\n",
    "        if not consistent(s,x):\n",
    "            S.remove(s)\n",
    "            Splus = min_generalizations(s, x)\n",
    "            S.update([h for h in Splus if any([more_general(g,h) \n",
    "                                               for g in G])])\n",
    "            S.difference_update([h for h in S if \n",
    "                                 any([more_general(h, h1) \n",
    "                                      for h1 in S if h != h1])])\n",
    "    return S"
   ]
  },
  {
   "cell_type": "code",
   "execution_count": 165,
   "metadata": {
    "executionInfo": {
     "elapsed": 814,
     "status": "ok",
     "timestamp": 1611568192013,
     "user": {
      "displayName": "Anshul Shende",
      "photoUrl": "",
      "userId": "16636738862215717479"
     },
     "user_tz": -330
    },
    "id": "32J9XCNy8twu"
   },
   "outputs": [],
   "source": [
    "def min_specializations(h, domains, x):\n",
    "    results = []\n",
    "    for i in range(len(h)):\n",
    "        if h[i] == '?':\n",
    "            for val in domains[i]:\n",
    "                if x[i] != val:\n",
    "                    h_new = h[:i] + (val,) + h[i+1:]\n",
    "                    results.append(h_new)\n",
    "        elif h[i] != '0':\n",
    "            h_new = h[:i] + ('0',) + h[i+1:]\n",
    "            results.append(h_new)\n",
    "    return results\n",
    "\n",
    "def specialize_G(x, domains, G, S):\n",
    "    G_prev = list(G)\n",
    "    for g in G_prev:\n",
    "        if g not in G:\n",
    "            continue\n",
    "        if consistent(g,x):\n",
    "            G.remove(g)\n",
    "            Gminus = min_specializations(g, domains, x)\n",
    "            G.update([h for h in Gminus if any([more_general(h, s)\n",
    "                                                for s in S])])\n",
    "            G.difference_update([h for h in G if \n",
    "                                 any([more_general(g1, h) \n",
    "                                      for g1 in G if h != g1])])\n",
    "    return G"
   ]
  },
  {
   "cell_type": "code",
   "execution_count": 166,
   "metadata": {
    "colab": {
     "base_uri": "https://localhost:8080/"
    },
    "executionInfo": {
     "elapsed": 886,
     "status": "ok",
     "timestamp": 1611568227726,
     "user": {
      "displayName": "Anshul Shende",
      "photoUrl": "",
      "userId": "16636738862215717479"
     },
     "user_tz": -330
    },
    "id": "OnPJ1jyX8xYJ",
    "outputId": "2d511ed6-22d4-4c64-a33c-083f4a5e6f88"
   },
   "outputs": [
    {
     "name": "stdout",
     "output_type": "stream",
     "text": [
      "\n",
      " G[0]: {('?', '?', '?', '?', '?')}\n",
      "\n",
      " S[0]: {('0', '0', '0', '0', '0')}\n",
      "\n",
      " G[1]: {(1, '?', '?', '?', '?'), ('?', '?', '?', 'Yes', '?'), ('?', '?', 'Child', '?', '?'), ('?', 'female', '?', '?', '?'), ('?', '?', '?', '?', 'Yes')}\n",
      "\n",
      " S[1]: {('0', '0', '0', '0', '0')}\n",
      "\n",
      " G[2]: {('?', '?', '?', 'Yes', '?'), ('?', '?', 'Child', '?', '?'), ('?', 'female', '?', '?', '?'), ('?', '?', '?', '?', 'Yes')}\n",
      "\n",
      " S[2]: {('0', '0', '0', '0', '0')}\n",
      "\n",
      " G[3]: {('?', '?', '?', 'Yes', 'No'), ('?', '?', 'Child', '?', 'No'), ('?', '?', 'Adult', '?', 'Yes'), (1, '?', 'Child', '?', '?'), ('?', '?', 'Child', 'No', '?'), (1, '?', '?', '?', 'Yes'), ('?', '?', '?', 'No', 'Yes'), (1, '?', '?', 'Yes', '?'), ('?', 'female', '?', '?', '?'), ('?', '?', 'Adult', 'Yes', '?')}\n",
      "\n",
      " S[3]: {('0', '0', '0', '0', '0')}\n",
      "\n",
      " G[4]: {('?', '?', 'Adult', '?', 'Yes'), ('?', '?', '?', 'No', 'Yes'), ('?', 'female', '?', '?', '?')}\n",
      "\n",
      " S[4]: {(2, 'female', 'Adult', 'No', 'Yes')}\n",
      "\n",
      " G[5]: {('?', 'female', '?', '?', '?')}\n",
      "\n",
      " S[5]: {(2, 'female', '?', '?', '?')}\n"
     ]
    }
   ],
   "source": [
    "def candidate_elimination(examples):\n",
    "    domains = get_domains(examples)[:-1]\n",
    "    \n",
    "    G = set([g_0(len(domains))])\n",
    "    S = set([s_0(len(domains))])\n",
    "    i=0\n",
    "    print(\"\\n G[{0}]:\".format(i),G)\n",
    "    print(\"\\n S[{0}]:\".format(i),S)\n",
    "    for xcx in examples:\n",
    "        i=i+1\n",
    "        x, cx = xcx[:-1], xcx[-1]  # Splitting data into attributes and decisions\n",
    "        if cx==1: # x is positive example\n",
    "            G = {g for g in G if consistent(g,x)}\n",
    "            S = generalize_S(x, G, S)\n",
    "        else: # x is negative example\n",
    "            S = {s for s in S if not consistent(s,x)}\n",
    "            G = specialize_G(x, domains, G, S)\n",
    "        print(\"\\n G[{0}]:\".format(i),G)\n",
    "        print(\"\\n S[{0}]:\".format(i),S)\n",
    "    return G,S\n",
    "G, S = candidate_elimination(X_train)"
   ]
  },
  {
   "cell_type": "code",
   "execution_count": 167,
   "metadata": {
    "colab": {
     "base_uri": "https://localhost:8080/",
     "height": 204
    },
    "executionInfo": {
     "elapsed": 922,
     "status": "ok",
     "timestamp": 1611568399335,
     "user": {
      "displayName": "Anshul Shende",
      "photoUrl": "",
      "userId": "16636738862215717479"
     },
     "user_tz": -330
    },
    "id": "8zrMZCFN83gV",
    "outputId": "d13c8d42-23bc-41ea-bd69-56029e3de9ef"
   },
   "outputs": [],
   "source": [
    "def check(instance_attr_val, constraint):\n",
    "    if (constraint == '-'):\n",
    "        return False\n",
    "    elif ((constraint != '?') and (constraint != instance_attr_val)):\n",
    "        return False\n",
    "    return True\n",
    "\n",
    "def test(X_test,hypothesis):\n",
    "    n = len(X_test)\n",
    "    m = len(X_test[1]) - 1\n",
    "    test_passed_cnt = 0\n",
    "    for i in range(n):\n",
    "        for j in range(m):\n",
    "            instance_attr_val = X_test[i][j]\n",
    "            constraint = hypothesis[j]\n",
    "            if(check(instance_attr_val, constraint) == False):\n",
    "                isSatisfying = 0\n",
    "                break\n",
    "            else:\n",
    "                isSatisfying = 1\n",
    "        if X_test[i][-1] == isSatisfying:\n",
    "            test_passed_cnt += 1\n",
    "    accuracy = (test_passed_cnt/n)*100\n",
    "    return accuracy"
   ]
  },
  {
   "cell_type": "code",
   "execution_count": 168,
   "metadata": {},
   "outputs": [
    {
     "name": "stdout",
     "output_type": "stream",
     "text": [
      "Accuracy is 61.57354618015963\n"
     ]
    }
   ],
   "source": [
    "print(\"Accuracy is {}\".format(test(X_test,list(S))))"
   ]
  },
  {
   "cell_type": "code",
   "execution_count": null,
   "metadata": {},
   "outputs": [],
   "source": []
  }
 ],
 "metadata": {
  "colab": {
   "authorship_tag": "ABX9TyPc3vTtGrNrUtnyt3vSn2fl",
   "collapsed_sections": [],
   "name": "CandidateEllimination.ipynb",
   "provenance": []
  },
  "kernelspec": {
   "display_name": "Python 3",
   "language": "python",
   "name": "python3"
  },
  "language_info": {
   "codemirror_mode": {
    "name": "ipython",
    "version": 3
   },
   "file_extension": ".py",
   "mimetype": "text/x-python",
   "name": "python",
   "nbconvert_exporter": "python",
   "pygments_lexer": "ipython3",
   "version": "3.7.6"
  }
 },
 "nbformat": 4,
 "nbformat_minor": 1
}
